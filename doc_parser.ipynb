{
 "cells": [
  {
   "cell_type": "markdown",
   "metadata": {},
   "source": [
    "# PDF Layout Parser - json conversion\n",
    "\n",
    "Automate data extraction in pdf documents has many changeleges. Different layouts, scanned images, bad resolution, etc. \n",
    "Although it is possible create scripts for each type instance of pdf, create many scripts for specific cases can be problematic and hard to maintain. \n",
    "This project propuse a solution to convert any type of pdf in a stuctured data sucah as a json object each can easyly deal with."
   ]
  },
  {
   "cell_type": "code",
   "execution_count": 1,
   "metadata": {},
   "outputs": [],
   "source": [
    "import os\n",
    "import time\n",
    "import json\n",
    "import cv2\n",
    "import pandas as pd\n",
    "import matplotlib.pyplot as plt\n",
    "from src.document_parser import DocumentParser"
   ]
  },
  {
   "cell_type": "markdown",
   "metadata": {},
   "source": [
    "### Select PDF document"
   ]
  },
  {
   "cell_type": "code",
   "execution_count": 2,
   "metadata": {},
   "outputs": [],
   "source": [
    "pdf_file = \"pdf/toy_document.pdf\""
   ]
  },
  {
   "cell_type": "code",
   "execution_count": 3,
   "metadata": {},
   "outputs": [],
   "source": [
    "doc_parser = DocumentParser(path_classifier_model = 'src/doc_classifier/model/model.csv')"
   ]
  },
  {
   "cell_type": "markdown",
   "metadata": {},
   "source": [
    "### Parse text blocks"
   ]
  },
  {
   "cell_type": "code",
   "execution_count": 4,
   "metadata": {},
   "outputs": [
    {
     "name": "stdout",
     "output_type": "stream",
     "text": [
      "CPU times: user 510 ms, sys: 297 ms, total: 807 ms\n",
      "Wall time: 878 ms\n"
     ]
    }
   ],
   "source": [
    "%%time\n",
    "imgs = doc_parser.pre_processing_pdf(pdf_file)"
   ]
  },
  {
   "cell_type": "code",
   "execution_count": 5,
   "metadata": {},
   "outputs": [
    {
     "name": "stdout",
     "output_type": "stream",
     "text": [
      "CPU times: user 444 ms, sys: 17.2 ms, total: 461 ms\n",
      "Wall time: 237 ms\n"
     ]
    }
   ],
   "source": [
    "%%time\n",
    "block_text = []\n",
    "for page in imgs:\n",
    "    block_text.append(doc_parser.layout_parser.get_contour(page))"
   ]
  },
  {
   "cell_type": "code",
   "execution_count": 6,
   "metadata": {},
   "outputs": [
    {
     "name": "stdout",
     "output_type": "stream",
     "text": [
      "Page 1 blocks:\n",
      "[{'type': 'text', 'bb': [219, 168, 963, 257]}, {'type': 'text', 'bb': [243, 323, 821, 359]}, {'type': 'text', 'bb': [241, 404, 1231, 474]}, {'type': 'text', 'bb': [243, 525, 1310, 675]}, {'type': 'text', 'bb': [243, 727, 1308, 804]}]\n",
      "Page 2 blocks:\n",
      "[{'type': 'text', 'bb': [222, 168, 953, 257]}, {'type': 'text', 'bb': [243, 323, 1308, 521]}]\n"
     ]
    }
   ],
   "source": [
    "x = 1\n",
    "for page in block_text:\n",
    "    print('Page {} blocks:'.format(x))\n",
    "    print(page)\n",
    "    x += 1"
   ]
  },
  {
   "cell_type": "code",
   "execution_count": 7,
   "metadata": {},
   "outputs": [
    {
     "data": {
      "image/png": "[encoded data removed]",
      "text/plain": [
       "<Figure size 576x1080 with 1 Axes>"
      ]
     },
     "metadata": {
      "needs_background": "light"
     },
     "output_type": "display_data"
    }
   ],
   "source": [
    "page = 1\n",
    "temp_file = imgs[page -1].copy()\n",
    "for block in block_text[page-1]:\n",
    "    temp_file = cv2.rectangle(temp_file, (block['bb'][0],block['bb'][1]), (block['bb'][2],block['bb'][3]), (0,0,255), 5)\n",
    "\n",
    "plt.figure(figsize=(8,15))\n",
    "plt.imshow(temp_file)\n",
    "plt.show()"
   ]
  },
  {
   "cell_type": "markdown",
   "metadata": {},
   "source": [
    "### Generate json objects"
   ]
  },
  {
   "cell_type": "code",
   "execution_count": 8,
   "metadata": {},
   "outputs": [
    {
     "name": "stdout",
     "output_type": "stream",
     "text": [
      "CPU times: user 201 ms, sys: 120 ms, total: 321 ms\n",
      "Wall time: 1.67 s\n"
     ]
    }
   ],
   "source": [
    "%%time\n",
    "json_pdf_result = []\n",
    "for x in range(0, len(block_text)):\n",
    "    json_pdf_result.append(doc_parser.ocr.read_block_texts(block_text[x], imgs[x]))"
   ]
  },
  {
   "cell_type": "code",
   "execution_count": 9,
   "metadata": {},
   "outputs": [
    {
     "data": {
      "text/plain": [
       "[{'type': 'text',\n",
       "  'x': 219,\n",
       "  'y': 168,\n",
       "  'width': 744,\n",
       "  'height': 89,\n",
       "  'text': 'A Simple PDF File',\n",
       "  'id': 1},\n",
       " {'type': 'text',\n",
       "  'x': 243,\n",
       "  'y': 323,\n",
       "  'width': 578,\n",
       "  'height': 36,\n",
       "  'text': 'This is a small demonstration .pdf file -',\n",
       "  'id': 2},\n",
       " {'type': 'text',\n",
       "  'x': 241,\n",
       "  'y': 404,\n",
       "  'width': 990,\n",
       "  'height': 70,\n",
       "  'text': 'just for use in the Virtual Mechanics tutorials. More text. And more \\ntext. And more text. And more text. And more text.',\n",
       "  'id': 3},\n",
       " {'type': 'text',\n",
       "  'x': 243,\n",
       "  'y': 525,\n",
       "  'width': 1067,\n",
       "  'height': 150,\n",
       "  'text': 'And more text. And more text. And more text. And more text. And more \\ntext. And more text. Boring, zzzzz. And more text. And more text. And \\nmore text. And more text. And more text. And more text. And more text. \\nAnd more text. And more text.',\n",
       "  'id': 4},\n",
       " {'type': 'text',\n",
       "  'x': 243,\n",
       "  'y': 727,\n",
       "  'width': 1065,\n",
       "  'height': 77,\n",
       "  'text': 'And more text. And more text. And more text. And more text. And more \\ntext. And more text. And more text. Even more. Continued on page 2...',\n",
       "  'id': 5}]"
      ]
     },
     "execution_count": 9,
     "metadata": {},
     "output_type": "execute_result"
    }
   ],
   "source": [
    "json_pdf_result[0]"
   ]
  },
  {
   "cell_type": "code",
   "execution_count": 10,
   "metadata": {},
   "outputs": [
    {
     "data": {
      "text/plain": [
       "[{'type': 'text',\n",
       "  'x': 222,\n",
       "  'y': 168,\n",
       "  'width': 731,\n",
       "  'height': 89,\n",
       "  'text': 'Simple PDF File 2',\n",
       "  'id': 1},\n",
       " {'type': 'text',\n",
       "  'x': 243,\n",
       "  'y': 323,\n",
       "  'width': 1065,\n",
       "  'height': 198,\n",
       "  'text': 'continued from page 1. Yet more text. And more text. And more text. \\nAnd more text. And more text. And more text. And more text. And more \\ntext. Oh, how boring typing this stuff. But not as boring as watching \\npaint dry. And more text. And more text. And more text. And more text. \\nBoring. More, a little more text. The end, and just as well.',\n",
       "  'id': 2}]"
      ]
     },
     "execution_count": 10,
     "metadata": {},
     "output_type": "execute_result"
    }
   ],
   "source": [
    "json_pdf_result[1]"
   ]
  },
  {
   "cell_type": "markdown",
   "metadata": {},
   "source": [
    "### Direct call no steps"
   ]
  },
  {
   "cell_type": "code",
   "execution_count": 11,
   "metadata": {},
   "outputs": [],
   "source": [
    "import pprint\n",
    "pp = pprint.PrettyPrinter(depth=3)"
   ]
  },
  {
   "cell_type": "code",
   "execution_count": 12,
   "metadata": {},
   "outputs": [
    {
     "name": "stdout",
     "output_type": "stream",
     "text": [
      "CPU times: user 3.27 s, sys: 704 ms, total: 3.98 s\n",
      "Wall time: 7.73 s\n"
     ]
    }
   ],
   "source": [
    "%%time\n",
    "pdf_parsed_json = doc_parser.generate_json(pdf_file)"
   ]
  },
  {
   "cell_type": "code",
   "execution_count": 13,
   "metadata": {},
   "outputs": [
    {
     "name": "stdout",
     "output_type": "stream",
     "text": [
      "{1: [{'height': 89,\n",
      "      'id': 1,\n",
      "      'text': 'A Simple PDF File',\n",
      "      'type': 'text',\n",
      "      'width': 744,\n",
      "      'x': 219,\n",
      "      'y': 168},\n",
      "     {'height': 36,\n",
      "      'id': 2,\n",
      "      'text': 'This is a small demonstration .pdf file -',\n",
      "      'type': 'text',\n",
      "      'width': 578,\n",
      "      'x': 243,\n",
      "      'y': 323},\n",
      "     {'height': 70,\n",
      "      'id': 3,\n",
      "      'text': 'just for use in the Virtual Mechanics tutorials. More text. And '\n",
      "              'more \\n'\n",
      "              'text. And more text. And more text. And more text.',\n",
      "      'type': 'text',\n",
      "      'width': 990,\n",
      "      'x': 241,\n",
      "      'y': 404},\n",
      "     {'height': 150,\n",
      "      'id': 4,\n",
      "      'text': 'And more text. And more text. And more text. And more text. And '\n",
      "              'more \\n'\n",
      "              'text. And more text. Boring, zzzzz. And more text. And more '\n",
      "              'text. And \\n'\n",
      "              'more text. And more text. And more text. And more text. And '\n",
      "              'more text. \\n'\n",
      "              'And more text. And more text.',\n",
      "      'type': 'text',\n",
      "      'width': 1067,\n",
      "      'x': 243,\n",
      "      'y': 525},\n",
      "     {'height': 77,\n",
      "      'id': 5,\n",
      "      'text': 'And more text. And more text. And more text. And more text. And '\n",
      "              'more \\n'\n",
      "              'text. And more text. And more text. Even more. Continued on '\n",
      "              'page 2...',\n",
      "      'type': 'text',\n",
      "      'width': 1065,\n",
      "      'x': 243,\n",
      "      'y': 727}],\n",
      " 2: [{'height': 89,\n",
      "      'id': 1,\n",
      "      'text': 'Simple PDF File 2',\n",
      "      'type': 'text',\n",
      "      'width': 731,\n",
      "      'x': 222,\n",
      "      'y': 168},\n",
      "     {'height': 198,\n",
      "      'id': 2,\n",
      "      'text': 'continued from page 1. Yet more text. And more text. And more '\n",
      "              'text. \\n'\n",
      "              'And more text. And more text. And more text. And more text. And '\n",
      "              'more \\n'\n",
      "              'text. Oh, how boring typing this stuff. But not as boring as '\n",
      "              'watching \\n'\n",
      "              'paint dry. And more text. And more text. And more text. And '\n",
      "              'more text. \\n'\n",
      "              'Boring. More, a little more text. The end, and just as well.',\n",
      "      'type': 'text',\n",
      "      'width': 1065,\n",
      "      'x': 243,\n",
      "      'y': 323}]}\n"
     ]
    }
   ],
   "source": [
    "pp.pprint(pdf_parsed_json)"
   ]
  }
 ],
 "metadata": {
  "kernelspec": {
   "display_name": "Python 3",
   "language": "python",
   "name": "python3"
  },
  "language_info": {
   "codemirror_mode": {
    "name": "ipython",
    "version": 3
   },
   "file_extension": ".py",
   "mimetype": "text/x-python",
   "name": "python",
   "nbconvert_exporter": "python",
   "pygments_lexer": "ipython3",
   "version": "3.6.9"
  }
 },
 "nbformat": 4,
 "nbformat_minor": 4
}
